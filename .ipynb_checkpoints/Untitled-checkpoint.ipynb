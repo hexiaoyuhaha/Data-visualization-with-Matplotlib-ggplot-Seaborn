{
 "cells": [
  {
   "cell_type": "markdown",
   "metadata": {},
   "source": [
    "Yes, `stylesheet` is such a rescue! I can automaticlly rendered our graph so beautiful, so we can focus on producing the content, instead of wasting our time find the good looking colors for our graph. We can also copy the colors used in `ggplot` style and save it for later use. To do this, we need to dive deeper into `plt.rcParams`. Below is a demonstration. You can skip this part the first time you read this.\n",
    "\n",
    "```python\n",
    "plt.style.use('ggplot')\n",
    "# print plt.rcParams\n",
    "colors = [v['color'] for v in plt.rcParams['axes.prop_cycle']][:6]\n",
    "print colors\n",
    "\n",
    "labels = ['M1', 'M2', 'P1', 'P2', 'F']\n",
    "plt.hist(edu.values, bins=10, normed=1, histtype='bar', color=colors, label=labels) # using the default color\n",
    "plt.legend()\n",
    "plt.show()\n",
    "```"
   ]
  },
  {
   "cell_type": "code",
   "execution_count": null,
   "metadata": {
    "collapsed": true
   },
   "outputs": [],
   "source": [
    "# edu.M1 = np.random.normal(80,5,50)\n",
    "# edu.M2 = np.random.normal(70,6.5,50)\n",
    "# edu.P1 = np.random.normal(60,8,50)\n",
    "# edu.P2 = np.random.normal(80,10,50)\n",
    "# edu.to_csv('tutorial_edu.csv', index=False)"
   ]
  }
 ],
 "metadata": {
  "anaconda-cloud": {},
  "kernelspec": {
   "display_name": "Python [Root]",
   "language": "python",
   "name": "Python [Root]"
  },
  "language_info": {
   "codemirror_mode": {
    "name": "ipython",
    "version": 2
   },
   "file_extension": ".py",
   "mimetype": "text/x-python",
   "name": "python",
   "nbconvert_exporter": "python",
   "pygments_lexer": "ipython2",
   "version": "2.7.12"
  }
 },
 "nbformat": 4,
 "nbformat_minor": 0
}
