{
 "cells": [
  {
   "cell_type": "markdown",
   "metadata": {},
   "source": [
    "# Data visualization with Matplotlib/ggplot\n",
    "\n",
    "#### Table of contents\n",
    "0. Why bother using ggplot/Seaborn?\n",
    "1. A brief introducion to ggplot\n",
    "2. A breif introduction to Seaborn\n",
    "3. Comparing Matplotlib with ggplot/Seaborn\n",
    "4. Conclusion: Pros and Cons of different plotting package\n",
    "\n",
    "\n",
    "The first part of this tutorial is introducing ggplot. The second part of this tutorial is introducing seaborn. The third part of this tutorial is comparing Matplotlib with ggplot/Seaborn. In the last part, I will mention when and why, you would prefer Matplotlib/ggplot/Seaborn.\n",
    "\n",
    "For Matplotlib user, this tutorial will introduce you to ggplot and Seaborn. I will give you some scenario and example when and why sometimes you would prefer using ggplot/Seaborn instead of matplotlib.\n",
    "\n",
    "For R user, this tutorial will help you migrate from ggplot to Matplotlib. You might already be very familiar to ggplot syntax, but there are some syntax difference between real ggplot2 in R and ggplot in python. The main difference will be covered in the tutorial. By going through the second part of this tutorial, you will have a deeper understanding of the different design philosophy behind Matplotlib and ggplot. Hopefully, this tutorial can also help you understanding matplotlib better. \n",
    "\n",
    "# Why bother using ggplot/Seaborn?\n",
    "Most python users are familiar with Matplotlib. Matplotlib is powerful enough, why bother using ggplot or Seaborn? That is because, in some senarios, Matplotlib code is cumbersome, you have to do a lot work to make it right. "
   ]
  },
  {
   "cell_type": "markdown",
   "metadata": {},
   "source": [
    "# Introduction to ggplot\n",
    "> ggplot is a plotting system for Python based on R's ggplot2 and the [Grammar of Graphics](http://www.amazon.com/Grammar-Graphics-Statistics-Computing/dp/0387245448). It is built for making profressional looking, plots quickly with minimal code.\n",
    "\n",
    "> ggplot is not a good fit for people trying to make highly customized data visualizations. While you can make some very intricate, great looking plots, ggplot sacrafices highly customization in favor of generall doing \"what you'd expect\".\n",
    "\n",
    "Some useful link:\n",
    "- [official website of ggplot](http://ggplot.yhathq.com/)\n",
    "- [Github repo](https://github.com/yhat/ggplot)\n",
    "- [ggplot for python](http://www.slideshare.net/Yhat/ggplot-for-python)\n",
    "- [A Dramatic Tour through Python’s Data Visualization Landscape (including ggplot and Altair)](https://dansaber.wordpress.com/2016/10/02/a-dramatic-tour-through-pythons-data-visualization-landscape-including-ggplot-and-altair/). This lecture compared 4 distinctive visualizing tools in python. I found it extremely useful. \n",
    "- [A slide introducing ggplot in python](http://www.slideshare.net/Yhat/ggplot-for-python)\n",
    "- [R for data science](http://r4ds.had.co.nz/data-visualisation.html). This is a R doc, but ggplot in python is nearly a copy of ggplot of R, referencing to some R doc might be helpful.\n",
    "\n",
    "\n",
    "## Installation\n",
    "To install the ggplot, type the following line in your console.  \n",
    "\n",
    "```bash\n",
    "pip install ggplot\n",
    "```\n",
    "\n",
    "Note: You may try to install ggplot using `conda install ggplot`, however this will fail because ggplot is not officially included in the conda. Install it using `pip` is recommended."
   ]
  },
  {
   "cell_type": "markdown",
   "metadata": {
    "collapsed": true
   },
   "source": [
    "## ggplot sketch\n",
    "First, let's make up a dataset. To have a idea about this data set, see the output of the `dat.head()`."
   ]
  },
  {
   "cell_type": "code",
   "execution_count": 2,
   "metadata": {
    "collapsed": false
   },
   "outputs": [
    {
     "data": {
      "text/html": [
       "<div>\n",
       "<table border=\"1\" class=\"dataframe\">\n",
       "  <thead>\n",
       "    <tr style=\"text-align: right;\">\n",
       "      <th></th>\n",
       "      <th>cond</th>\n",
       "      <th>xvar</th>\n",
       "      <th>yvar</th>\n",
       "    </tr>\n",
       "  </thead>\n",
       "  <tbody>\n",
       "    <tr>\n",
       "      <th>0</th>\n",
       "      <td>A</td>\n",
       "      <td>-4.028001</td>\n",
       "      <td>0.151113</td>\n",
       "    </tr>\n",
       "    <tr>\n",
       "      <th>1</th>\n",
       "      <td>A</td>\n",
       "      <td>-2.033802</td>\n",
       "      <td>3.755766</td>\n",
       "    </tr>\n",
       "    <tr>\n",
       "      <th>2</th>\n",
       "      <td>A</td>\n",
       "      <td>1.417906</td>\n",
       "      <td>2.483318</td>\n",
       "    </tr>\n",
       "    <tr>\n",
       "      <th>3</th>\n",
       "      <td>A</td>\n",
       "      <td>4.937508</td>\n",
       "      <td>4.054084</td>\n",
       "    </tr>\n",
       "    <tr>\n",
       "      <th>4</th>\n",
       "      <td>A</td>\n",
       "      <td>1.611261</td>\n",
       "      <td>1.770483</td>\n",
       "    </tr>\n",
       "  </tbody>\n",
       "</table>\n",
       "</div>"
      ],
      "text/plain": [
       "  cond      xvar      yvar\n",
       "0    A -4.028001  0.151113\n",
       "1    A -2.033802  3.755766\n",
       "2    A  1.417906  2.483318\n",
       "3    A  4.937508  4.054084\n",
       "4    A  1.611261  1.770483"
      ]
     },
     "execution_count": 2,
     "metadata": {},
     "output_type": "execute_result"
    }
   ],
   "source": [
    "d = {'xvar': range(20) + np.random.normal(0, 3, 20), \n",
    "     'yvar': range(20) + np.random.normal(0, 3, 20), \n",
    "     'cond': ['A']*10 + ['B']*10}\n",
    "dat = pd.DataFrame(d)\n",
    "dat.head()"
   ]
  },
  {
   "cell_type": "markdown",
   "metadata": {},
   "source": [
    "Next, let's start with the simplest case, draw scatterplots! This make a scatter point for you:\n",
    "```python\n",
    "ggplot(dat, aes(x='xvar', y='yvar')) + geom_point()\n",
    "```\n",
    "\n",
    "\n",
    "For R user, this code must look very familiar to you. But note that, column name needs to be quoted, it passed as a string in python.\n",
    "\n",
    "For Matplotlib, you may found this line of code really wired! Let me explain this to you in details. The way that ggplot construct a graph is to add different layers to the graph.\n",
    "\n",
    "`ggplot()` defines the base layer components of our chart. We can make complex graphics by adding more layers on the base graph.\n",
    "\n",
    "`ggplot()` have 2 argument:\n",
    "1. The data for the plot (the data frame being used)\n",
    "2. How your data will relate to your plots, like x axis, y axis; size, color, shape of the points (the [aesthetics](https://github.com/yhat/ggplot/blob/master/docs/plotting/aesthetics.ipynb) [2](http://r4ds.had.co.nz/data-visualisation.html#aesthetic-mappings))\n",
    "\n",
    "`ggplot` use layers to build up the plot. After setting up the base layer using `ggplot(dat, aes(x='xvar', y='yvar'))`, we will show the scatter point by adding a `geom_point()` layer. `geom_point()` adds a layer of points to the base graph. \n",
    "\n",
    "There are a lot of very convenient statistic graph that you can plot by using ggplot. For example, I have listed some very handy function that you can add to your base layer. \n",
    "\n"
   ]
  },
  {
   "cell_type": "code",
   "execution_count": 3,
   "metadata": {
    "collapsed": false
   },
   "outputs": [],
   "source": [
    "# plot a histogram\n",
    "ggplot(dat, aes(x='xvar', y='yvar')) + geom_histogram();"
   ]
  },
  {
   "cell_type": "code",
   "execution_count": 4,
   "metadata": {
    "collapsed": false
   },
   "outputs": [],
   "source": [
    "# plot a line\n",
    "ggplot(dat, aes(x='xvar', y='yvar')) + geom_line();"
   ]
  },
  {
   "cell_type": "code",
   "execution_count": 5,
   "metadata": {
    "collapsed": false
   },
   "outputs": [],
   "source": [
    "# plot scatter points\n",
    "ggplot(dat, aes(x='xvar', y='yvar')) + geom_point();"
   ]
  },
  {
   "cell_type": "markdown",
   "metadata": {},
   "source": [
    "#### Adding a linear regression line\n",
    "Let's try more to add a linear regression line. To do this, just add a `stat_smooth(method='lm')` layer. \n",
    "\n",
    "`'lm'` means 'linear regression'. By default, this will includes 95% confidence region, as shown as the shaded area.\n",
    "We can also plot without the shadded confidence interval. To do this, set `se='false'`."
   ]
  },
  {
   "cell_type": "code",
   "execution_count": 6,
   "metadata": {
    "collapsed": false
   },
   "outputs": [],
   "source": [
    "ggplot(dat, aes(x='xvar', y='yvar')) + geom_point() + stat_smooth(method='lm');\n",
    "ggplot(dat, aes(x='xvar', y='yvar')) + geom_point() + stat_smooth(method='lm', se='false');"
   ]
  },
  {
   "cell_type": "markdown",
   "metadata": {},
   "source": [
    "Now, how to give different scatter point different color depending on their attributes? In ggplot, you can color/shape by an variable."
   ]
  },
  {
   "cell_type": "code",
   "execution_count": 7,
   "metadata": {
    "collapsed": false
   },
   "outputs": [],
   "source": [
    "ggplot(dat, aes(x='xvar', y='yvar', color='cond')) + geom_point();"
   ]
  },
  {
   "cell_type": "markdown",
   "metadata": {},
   "source": [
    "We can also plot different regression line based on the color."
   ]
  },
  {
   "cell_type": "code",
   "execution_count": 8,
   "metadata": {
    "collapsed": false
   },
   "outputs": [],
   "source": [
    "ggplot(dat, aes(x='xvar', y='yvar', color='cond'))\\\n",
    "        + geom_point()\\\n",
    "        + stat_smooth(method='lm', fullrange='true');"
   ]
  },
  {
   "cell_type": "markdown",
   "metadata": {},
   "source": [
    "In ggplot, you can assign the layer that `ggplot()` returns to a variable, and adding new attributes to this layer. Let me illustrate it with following example:"
   ]
  },
  {
   "cell_type": "code",
   "execution_count": 9,
   "metadata": {
    "collapsed": false
   },
   "outputs": [],
   "source": [
    "# Assign the object that `ggplot()` returns to a variable\n",
    "dia = ggplot(diamonds, aes(x='clarity', y='price'))\n",
    "\n",
    "## Add a title:\n",
    "dia + geom_boxplot() + ggtitle(\"Diamond\");\n",
    "\n",
    "## If the title is long, it can be split into multiple lines with \\n\n",
    "dia + ggtitle(\"Diamond\\nThis is a very long title\");\n",
    "\n",
    "## Change background to white\n",
    "dia + ggtitle(\"Diamond\\nThis is a very long title\") +  theme_bw();\n",
    "\n",
    "# Change Axes names  \n",
    "dia + xlab(\"new X axis name\") + ylab(\"new Y axis name\"); # change x, y axes names\n"
   ]
  },
  {
   "cell_type": "code",
   "execution_count": null,
   "metadata": {
    "collapsed": true
   },
   "outputs": [],
   "source": []
  },
  {
   "cell_type": "markdown",
   "metadata": {},
   "source": [
    "# Brief introduction to Seaborn\n",
    "\n",
    "Installation:\n",
    "```\n",
    "conda install seaborn\n",
    "```\n",
    "\n",
    "There are tons of documentation of seaborn online. Here are some resources I found most useful:\n"
   ]
  },
  {
   "cell_type": "code",
   "execution_count": null,
   "metadata": {
    "collapsed": true
   },
   "outputs": [],
   "source": []
  },
  {
   "cell_type": "code",
   "execution_count": null,
   "metadata": {
    "collapsed": true
   },
   "outputs": [],
   "source": []
  },
  {
   "cell_type": "markdown",
   "metadata": {},
   "source": []
  },
  {
   "cell_type": "markdown",
   "metadata": {},
   "source": [
    "The world is wonderful with small dataset. However, what will happen if we have to plot on large data set? How to automatic scale becomes important."
   ]
  },
  {
   "cell_type": "markdown",
   "metadata": {},
   "source": []
  },
  {
   "cell_type": "markdown",
   "metadata": {},
   "source": [
    "In Matplotlib, you can plot multiple histogram by looping. This is a code for plotting multiple histogram. It comes from the official Matplolib webiste [3](http://matplotlib.org/examples/statistics/histogram_demo_multihist.html)"
   ]
  },
  {
   "cell_type": "markdown",
   "metadata": {},
   "source": [
    "# Senario 1: Student Grade Distribution\n",
    "\n",
    "Suppose you want to know the distribution of student's grade. The example data is:"
   ]
  },
  {
   "cell_type": "code",
   "execution_count": 38,
   "metadata": {
    "collapsed": false,
    "scrolled": true
   },
   "outputs": [
    {
     "name": "stdout",
     "output_type": "stream",
     "text": [
      "50\n"
     ]
    },
    {
     "data": {
      "text/html": [
       "<div>\n",
       "<table border=\"1\" class=\"dataframe\">\n",
       "  <thead>\n",
       "    <tr style=\"text-align: right;\">\n",
       "      <th></th>\n",
       "      <th>M1</th>\n",
       "      <th>M2</th>\n",
       "      <th>P1</th>\n",
       "      <th>P2</th>\n",
       "      <th>F</th>\n",
       "      <th>Total</th>\n",
       "    </tr>\n",
       "  </thead>\n",
       "  <tbody>\n",
       "    <tr>\n",
       "      <th>0</th>\n",
       "      <td>86.122760</td>\n",
       "      <td>72.619969</td>\n",
       "      <td>45.086135</td>\n",
       "      <td>56.668942</td>\n",
       "      <td>95.0</td>\n",
       "      <td>71.0</td>\n",
       "    </tr>\n",
       "    <tr>\n",
       "      <th>1</th>\n",
       "      <td>85.478777</td>\n",
       "      <td>72.189228</td>\n",
       "      <td>66.944689</td>\n",
       "      <td>89.068604</td>\n",
       "      <td>85.0</td>\n",
       "      <td>75.0</td>\n",
       "    </tr>\n",
       "    <tr>\n",
       "      <th>2</th>\n",
       "      <td>87.149706</td>\n",
       "      <td>64.860001</td>\n",
       "      <td>51.437478</td>\n",
       "      <td>67.307984</td>\n",
       "      <td>4.0</td>\n",
       "      <td>39.0</td>\n",
       "    </tr>\n",
       "    <tr>\n",
       "      <th>3</th>\n",
       "      <td>75.429333</td>\n",
       "      <td>89.181503</td>\n",
       "      <td>61.420725</td>\n",
       "      <td>84.095960</td>\n",
       "      <td>20.0</td>\n",
       "      <td>38.0</td>\n",
       "    </tr>\n",
       "    <tr>\n",
       "      <th>4</th>\n",
       "      <td>84.529962</td>\n",
       "      <td>73.596047</td>\n",
       "      <td>56.968285</td>\n",
       "      <td>94.492386</td>\n",
       "      <td>86.0</td>\n",
       "      <td>63.0</td>\n",
       "    </tr>\n",
       "  </tbody>\n",
       "</table>\n",
       "</div>"
      ],
      "text/plain": [
       "          M1         M2         P1         P2     F  Total\n",
       "0  86.122760  72.619969  45.086135  56.668942  95.0   71.0\n",
       "1  85.478777  72.189228  66.944689  89.068604  85.0   75.0\n",
       "2  87.149706  64.860001  51.437478  67.307984   4.0   39.0\n",
       "3  75.429333  89.181503  61.420725  84.095960  20.0   38.0\n",
       "4  84.529962  73.596047  56.968285  94.492386  86.0   63.0"
      ]
     },
     "execution_count": 38,
     "metadata": {},
     "output_type": "execute_result"
    }
   ],
   "source": [
    "edu = pd.read_csv('tutorial_edu.csv')\n",
    "print len(edu)\n",
    "edu.head()"
   ]
  },
  {
   "cell_type": "markdown",
   "metadata": {},
   "source": [
    "This is a grade data of 400 student. M1, M2 is grade of 2 midterms. P1, P2 is grade of 2 programming assignments. F is grade of final exam. \n",
    "\n",
    "What is distribution of student's grade on M1, M2, P1, P2, F, respectively? We can answer this quesiton by draw a Histogram. "
   ]
  },
  {
   "cell_type": "markdown",
   "metadata": {},
   "source": [
    "## Histogram in `matplotlib`\n",
    "\n",
    "Let's draw it in Matplotlib first. This is the matplotlib hist api link [hist](http://matplotlib.org/api/pyplot_api.html#matplotlib.pyplot.hist). For you convenience, this is the api signature:\n",
    "\n",
    "    matplotlib.pyplot.hist(x, bins=10, range=None, normed=False, weights=None, cumulative=False, bottom=None, histtype='bar', align='mid', orientation='vertical', rwidth=None, log=False, color=None, label=None, stacked=False, hold=None, data=None, **kwargs)"
   ]
  },
  {
   "cell_type": "code",
   "execution_count": 39,
   "metadata": {
    "collapsed": false
   },
   "outputs": [
    {
     "data": {
      "text/plain": [
       "<matplotlib.legend.Legend at 0x11ac1f550>"
      ]
     },
     "execution_count": 39,
     "metadata": {},
     "output_type": "execute_result"
    },
    {
     "data": {
      "image/png": "[encoded data removed]",
      "text/plain": [
       "<matplotlib.figure.Figure at 0x1152cff50>"
      ]
     },
     "metadata": {},
     "output_type": "display_data"
    }
   ],
   "source": [
    "n_bins = 10\n",
    "labels = ['M1', 'M2', 'P1', 'P2', 'F']\n",
    "\n",
    "plt.hist(edu.values, bins=n_bins, normed=1, histtype='bar', label=labels) # using the default color\n",
    "plt.title('bars with legend')\n",
    "plt.xlabel('Number of student')\n",
    "plt.ylabel('Grade')\n",
    "plt.legend()"
   ]
  },
  {
   "cell_type": "markdown",
   "metadata": {},
   "source": [
    "This is the default argument that we are implicitly pass to the hist funciton:\n",
    "\n",
    "#####################\n",
    "\n",
    "Note about `legend()`: To use the legend, we have to pass `label` argument for the graph. That means, we can't use the default color of `hist`, we have to explicitly pass the `color` and `label` to the `hist` function.\n",
    "\n",
    "\n",
    "What if I don't want to use the default color? The following program demonstrates how to explicitly set the color. To keep the code short, I will skip setting the `title`, `xlabel` and `ylabel`."
   ]
  },
  {
   "cell_type": "markdown",
   "metadata": {},
   "source": [
    "## Color scheme in `matplotlib`"
   ]
  },
  {
   "cell_type": "code",
   "execution_count": 40,
   "metadata": {
    "collapsed": false
   },
   "outputs": [
    {
     "data": {
      "image/png": "[encoded data removed]",
      "text/plain": [
       "<matplotlib.figure.Figure at 0x11c738310>"
      ]
     },
     "metadata": {},
     "output_type": "display_data"
    }
   ],
   "source": [
    "# setting self defined color\n",
    "colors = ['red', 'tan', 'lime', 'blue', 'green', 'pink']\n",
    "\n",
    "labels = ['M1', 'M2', 'P1', 'P2', 'F']\n",
    "plt.hist(edu.values, bins=10, normed=1, histtype='bar', color=colors, label=labels) # using the default color\n",
    "plt.legend()\n",
    "plt.show()"
   ]
  },
  {
   "cell_type": "markdown",
   "metadata": {},
   "source": [
    "Yes, I hear you crying. \"OMG. This graph is toooo ugly!! How can you picked those ugly colors?\".\n",
    "\n",
    "Colors is important. In matplotlib, there are some ways that you can automaticlly generate colors for your graph. So far, I've found 2 way to let the matplotlib auto scale the color.\n",
    "\n",
    "1. Using `colormap`. [Reference link to colormap](http://matplotlib.org/examples/color/colormaps_reference.html). You can choose a lot of color style from it. \n",
    "2. Using `stylesheet`. [stylesheet guide](http://matplotlib.org/users/style_sheets.html). The most common style would be `ggplot` and `seaborn`.\n",
    "\n",
    "The following 2 programs demonstrates how to use colormap and style sheet. To keep the code short, I will skip setting the `title`, `xlabel` and `ylabel`."
   ]
  },
  {
   "cell_type": "code",
   "execution_count": 41,
   "metadata": {
    "collapsed": false
   },
   "outputs": [
    {
     "data": {
      "text/plain": [
       "<matplotlib.legend.Legend at 0x11d68fbd0>"
      ]
     },
     "execution_count": 41,
     "metadata": {},
     "output_type": "execute_result"
    },
    {
     "data": {
      "image/png": "[encoded data removed]",
      "text/plain": [
       "<matplotlib.figure.Figure at 0x11d68f990>"
      ]
     },
     "metadata": {},
     "output_type": "display_data"
    }
   ],
   "source": [
    "# Old way: setting 6 color\n",
    "# colors = ['red', 'tan', 'lime', 'blue', 'green', 'pink']\n",
    "\n",
    "# New way: using the colormap to automaticlly scale the color\n",
    "import matplotlib.cm as cm\n",
    "colors = cm.rainbow(np.linspace(0, 1, 6))\n",
    "# Please try the following colors!\n",
    "# colors = cm.autumn(np.linspace(0, 1, 6))\n",
    "# colors = cm.gist_earth(np.linspace(0, 1, 6))\n",
    "\n",
    "labels = ['M1', 'M2', 'P1', 'P2', 'F']\n",
    "plt.hist(edu.values, bins=10, normed=1, histtype='bar', color=colors, label=labels) # using the default color\n",
    "plt.legend()"
   ]
  },
  {
   "cell_type": "markdown",
   "metadata": {},
   "source": [
    "To know the style available, use `print(plt.style.available)`.\n",
    "\n",
    "```python\n",
    "print(plt.style.available)\n",
    "[u'seaborn-darkgrid', u'seaborn-notebook', u'classic', u'seaborn-ticks', u'grayscale', u'bmh', u'seaborn-talk', u'dark_background', u'ggplot', u'fivethirtyeight', u'seaborn-colorblind', u'seaborn-deep', u'seaborn-whitegrid', u'seaborn-bright', u'seaborn-poster', u'seaborn-muted', u'seaborn-paper', u'seaborn-white', u'seaborn-pastel', u'seaborn-dark', u'seaborn-dark-palette']\n",
    "```"
   ]
  },
  {
   "cell_type": "code",
   "execution_count": 42,
   "metadata": {
    "collapsed": false
   },
   "outputs": [
    {
     "data": {
      "text/plain": [
       "<matplotlib.legend.Legend at 0x11ce9e4d0>"
      ]
     },
     "execution_count": 42,
     "metadata": {},
     "output_type": "execute_result"
    },
    {
     "data": {
      "image/png": "[encoded data removed]",
      "text/plain": [
       "<matplotlib.figure.Figure at 0x11ce9e690>"
      ]
     },
     "metadata": {},
     "output_type": "display_data"
    }
   ],
   "source": [
    "# Please try those different color styles\n",
    "\n",
    "# plt.style.use('ggplot')\n",
    "# plt.style.use('classic')\n",
    "# plt.style.use('bmh')\n",
    "# plt.style.use('seaborn-pastel')\n",
    "# plt.style.use('seaborn-darkgrid')\n",
    "# plt.style.use('seaborn-colorblind')\n",
    "# plt.style.use('fivethirtyeight')\n",
    "\n",
    "labels = ['M1', 'M2', 'P1', 'P2', 'F']\n",
    "with plt.style.context(('fivethirtyeight')):\n",
    "    plt.hist(edu.values, bins=10, normed=1, histtype='bar', label=labels) # using the default color\n",
    "plt.legend()"
   ]
  },
  {
   "cell_type": "markdown",
   "metadata": {},
   "source": [
    "## Plot multiple Graph in `matplotlib`\n",
    "In the above example, it would be much better if we can plot the distribution of each exam in the different graph. To plot multiple graph, we can use [`subplot()`](http://matplotlib.org/api/pyplot_api.html#matplotlib.pyplot.subplot) command. Typical call signature is:\n",
    "```python\n",
    "subplot(nrows, ncols, plot_number)\n",
    "```\n",
    "A most common usage would be:\n",
    "```python\n",
    "fig, axes = plt.subplots(nrows=2, ncols=2)\n",
    "```\n",
    "Since we are plotting a 2x2 grid, our axe is 2x2\n",
    "```python\n",
    "print axes\n",
    "[[<matplotlib.axes._subplots.AxesSubplot object at 0x11ca1b090>\n",
    "  <matplotlib.axes._subplots.AxesSubplot object at 0x11d1d5450>]\n",
    " [<matplotlib.axes._subplots.AxesSubplot object at 0x11d73c210>\n",
    "  <matplotlib.axes._subplots.AxesSubplot object at 0x11d7a7710>]]\n",
    "```"
   ]
  },
  {
   "cell_type": "code",
   "execution_count": 43,
   "metadata": {
    "collapsed": false
   },
   "outputs": [],
   "source": [
    "# edu.M1 = np.random.normal(80,5,50)\n",
    "# edu.M2 = np.random.normal(70,6.5,50)\n",
    "# edu.P1 = np.random.normal(60,8,50)\n",
    "# edu.P2 = np.random.normal(80,10,50)\n",
    "# edu.to_csv('tutorial_edu.csv', index=False)"
   ]
  },
  {
   "cell_type": "code",
   "execution_count": 47,
   "metadata": {
    "collapsed": false
   },
   "outputs": [
    {
     "data": {
      "image/png": "[encoded data removed]",
      "text/plain": [
       "<matplotlib.figure.Figure at 0x11e732ed0>"
      ]
     },
     "metadata": {},
     "output_type": "display_data"
    }
   ],
   "source": [
    "nrows = 2\n",
    "ncols = 2\n",
    "n_bins = 10\n",
    "\n",
    "# we have to set sharex and sharey to make the subplot share the axis\n",
    "fig, axes = plt.subplots(nrows=nrows, ncols=ncols, sharex=True, sharey=True)\n",
    "axes_flat = axes.flat\n",
    "import matplotlib.cm as cm\n",
    "colors = cm.rainbow(np.linspace(0, 1, 4))\n",
    "\n",
    "for i in range(nrows*ncols):\n",
    "    axes_flat[i].hist(edu.iloc[:, [i]].values, n_bins, histtype='bar', color=colors[i])\n",
    "    axes_flat[i].set(xlabel='grade', ylabel='num of students' ,title=edu.columns[i])\n",
    "axes_flat[0].legend(prop={'size': 10})"
   ]
  },
  {
   "cell_type": "markdown",
   "metadata": {},
   "source": [
    "## Color, histogram in `ggplot`\n",
    "\n",
    "Ok, now let me try to handle histogram, color, legend in ggplot. Plotting multiple histograms in ggplot is as easy as pie. We can easily plot multiple chart by using the `facet_wrap()`. \n",
    "\n",
    "Compare to `matplotlib`, `ggplot` have several advantages:\n",
    "\n",
    "* No loop needed. (in matplotlib we have to loop through all the subplots)\n",
    "* No need to consider number of columns, number of rows to use. \n",
    "* No need to think about what next color to choose. (in matplotlib we have set color for each subplot)\n",
    "* Legend and title for each graph are set automaticlly. (in matplotlib we have set `legend()`)\n",
    "* x and y axis scaled automaticlly for all the graph. (in matplotlib we have set `sharex` and `sharey`)\n",
    "\n",
    "As you can see, `ggplot` automaticlly handles everything for us. However, there are no free lunch. Instead of passing the original `edu` dataframe, we are passing `pd.melt(edu)` here to `ggplot`. Please have a look and `pd.melt()` function, and you will understand why we are doing this transformation."
   ]
  },
  {
   "cell_type": "markdown",
   "metadata": {},
   "source": []
  },
  {
   "cell_type": "code",
   "execution_count": 67,
   "metadata": {
    "collapsed": false
   },
   "outputs": [
    {
     "data": {
      "image/png": "[encoded data removed]",
      "text/plain": [
       "<matplotlib.figure.Figure at 0x12aa6add0>"
      ]
     },
     "metadata": {},
     "output_type": "display_data"
    },
    {
     "data": {
      "text/plain": [
       "<ggplot: (313165033)>"
      ]
     },
     "execution_count": 67,
     "metadata": {},
     "output_type": "execute_result"
    }
   ],
   "source": [
    "ggplot(pd.melt(edu), aes(x='value', fill='variable')) + \\\n",
    "        geom_histogram(alpha=0.6) + \\\n",
    "        facet_wrap('variable') + \\\n",
    "        xlab(\"Grade\") + \\\n",
    "        ylab(\"Num of students\")"
   ]
  },
  {
   "cell_type": "markdown",
   "metadata": {},
   "source": [
    "We can also plot a density line:"
   ]
  },
  {
   "cell_type": "code",
   "execution_count": 65,
   "metadata": {
    "collapsed": false
   },
   "outputs": [],
   "source": [
    "ggplot(pd.melt(edu), aes(x='value', color='variable')) + geom_density(binwidth=10);"
   ]
  },
  {
   "cell_type": "markdown",
   "metadata": {},
   "source": [
    "Changing the color style in ggplot is also easy. Just add a color layer to your current layer. For example, add a `scale_color_brewer()` or `scale_color_gradient()` layer.\n",
    "\n",
    "Try colors in this [link](http://ggplot.yhathq.com/docs/index.html), they are really pretty.\n",
    "\n",
    "* [`scale_color_brewer()`](http://ggplot.yhathq.com/docs/scale_color_brewer.html),\n",
    "* [`scale_color_gradient()`](http://ggplot.yhathq.com/docs/scale_color_gradient.html)"
   ]
  },
  {
   "cell_type": "code",
   "execution_count": 64,
   "metadata": {
    "collapsed": false
   },
   "outputs": [],
   "source": [
    "ggplot(pd.melt(edu), aes(x='value', color='variable')) + \\\n",
    "    geom_density(binwidth=10) + \\\n",
    "    scale_color_brewer(type='qual');\n",
    "    \n",
    "ggplot(pd.melt(edu), aes(x='value', color='variable')) + \\\n",
    "    geom_density(binwidth=10) + \\\n",
    "    scale_color_brewer(type='div', palette=2);"
   ]
  },
  {
   "cell_type": "markdown",
   "metadata": {},
   "source": [
    "## Plot multiple Graph in `seaborn`"
   ]
  },
  {
   "cell_type": "markdown",
   "metadata": {},
   "source": [
    "## Plot multiple Graph in `ggplot`"
   ]
  },
  {
   "cell_type": "markdown",
   "metadata": {},
   "source": [
    "# Senario 2: Iris Data\n",
    "## Suppose you want to plot the histogram depends on different value of one column\n",
    "\n",
    "Take \"Iris\" dataset for example. The question we are asking is: \"How to plot the histogram based on different species?\"\n",
    "\n",
    "The example data type would be:"
   ]
  },
  {
   "cell_type": "code",
   "execution_count": 20,
   "metadata": {
    "collapsed": false
   },
   "outputs": [
    {
     "data": {
      "text/html": [
       "<div>\n",
       "<table border=\"1\" class=\"dataframe\">\n",
       "  <thead>\n",
       "    <tr style=\"text-align: right;\">\n",
       "      <th></th>\n",
       "      <th>sepalLength</th>\n",
       "      <th>sepalWidth</th>\n",
       "      <th>petalLength</th>\n",
       "      <th>petalWidth</th>\n",
       "      <th>species</th>\n",
       "    </tr>\n",
       "  </thead>\n",
       "  <tbody>\n",
       "    <tr>\n",
       "      <th>0</th>\n",
       "      <td>5.1</td>\n",
       "      <td>3.5</td>\n",
       "      <td>1.4</td>\n",
       "      <td>0.2</td>\n",
       "      <td>Iris-setosa</td>\n",
       "    </tr>\n",
       "    <tr>\n",
       "      <th>1</th>\n",
       "      <td>4.9</td>\n",
       "      <td>3.0</td>\n",
       "      <td>1.4</td>\n",
       "      <td>0.2</td>\n",
       "      <td>Iris-setosa</td>\n",
       "    </tr>\n",
       "    <tr>\n",
       "      <th>2</th>\n",
       "      <td>4.7</td>\n",
       "      <td>3.2</td>\n",
       "      <td>1.3</td>\n",
       "      <td>0.2</td>\n",
       "      <td>Iris-setosa</td>\n",
       "    </tr>\n",
       "    <tr>\n",
       "      <th>3</th>\n",
       "      <td>4.6</td>\n",
       "      <td>3.1</td>\n",
       "      <td>1.5</td>\n",
       "      <td>0.2</td>\n",
       "      <td>Iris-setosa</td>\n",
       "    </tr>\n",
       "    <tr>\n",
       "      <th>4</th>\n",
       "      <td>5.0</td>\n",
       "      <td>3.6</td>\n",
       "      <td>1.4</td>\n",
       "      <td>0.2</td>\n",
       "      <td>Iris-setosa</td>\n",
       "    </tr>\n",
       "  </tbody>\n",
       "</table>\n",
       "</div>"
      ],
      "text/plain": [
       "   sepalLength  sepalWidth  petalLength  petalWidth      species\n",
       "0          5.1         3.5          1.4         0.2  Iris-setosa\n",
       "1          4.9         3.0          1.4         0.2  Iris-setosa\n",
       "2          4.7         3.2          1.3         0.2  Iris-setosa\n",
       "3          4.6         3.1          1.5         0.2  Iris-setosa\n",
       "4          5.0         3.6          1.4         0.2  Iris-setosa"
      ]
     },
     "execution_count": 20,
     "metadata": {},
     "output_type": "execute_result"
    }
   ],
   "source": [
    "# sepalLength,sepalWidth,petalLength,petalWidth,species\n",
    "iris = pd.read_csv('iris.csv')\n",
    "iris.head()"
   ]
  },
  {
   "cell_type": "code",
   "execution_count": 21,
   "metadata": {
    "collapsed": false
   },
   "outputs": [],
   "source": [
    "# To plot a histogram in ggplot\n",
    "ggplot(iris, aes(x='sepalLength', color='species', fill='species')) + geom_histogram(alpha=0.6);\n",
    "# Histogram is not visually very useful, I prefer using a density function instead.\n",
    "ggplot(iris, aes(x='sepalLength', color='species', fill='species')) + geom_density();"
   ]
  },
  {
   "cell_type": "markdown",
   "metadata": {
    "collapsed": true
   },
   "source": [
    "To do this in `matplotlib`, we need to use a loop."
   ]
  },
  {
   "cell_type": "code",
   "execution_count": 22,
   "metadata": {
    "collapsed": false
   },
   "outputs": [],
   "source": [
    "# for specie in iris.species.unique():\n",
    "#     plt.hist(iris[iris.species == specie].sepalLength, histtype='bar') # using the default color\n",
    "    \n",
    "# plt.title('bars with legend')\n",
    "# plt.xlabel('Number of student')\n",
    "# plt.ylabel('Grade')\n",
    "# plt.legend()"
   ]
  },
  {
   "cell_type": "markdown",
   "metadata": {},
   "source": [
    "# Conclusion\n"
   ]
  },
  {
   "cell_type": "code",
   "execution_count": null,
   "metadata": {
    "collapsed": true
   },
   "outputs": [],
   "source": []
  },
  {
   "cell_type": "code",
   "execution_count": null,
   "metadata": {
    "collapsed": true
   },
   "outputs": [],
   "source": []
  },
  {
   "cell_type": "code",
   "execution_count": 23,
   "metadata": {
    "collapsed": false
   },
   "outputs": [
    {
     "data": {
      "image/png": "[encoded data removed]",
      "text/plain": [
       "<matplotlib.figure.Figure at 0x11c0d6b10>"
      ]
     },
     "metadata": {},
     "output_type": "display_data"
    },
    {
     "data": {
      "image/png": "[encoded data removed]",
      "text/plain": [
       "<matplotlib.figure.Figure at 0x11c2437d0>"
      ]
     },
     "metadata": {},
     "output_type": "display_data"
    }
   ],
   "source": [
    "n_bins = 10\n",
    "colors = ['red', 'tan', 'lime', 'blue', 'green', 'pink']\n",
    "fig, axe = plt.subplots()\n",
    "\n",
    "axe.hist(edu.values, bins=n_bins, normed=1, histtype='bar') # using the default color\n",
    "# If we cant to \n",
    "# axe.legend(handles=[histog])  # not sure how to use legend\n",
    "axe.set_title('bars with legend')\n",
    "axe.set_xlabel('Number of student')\n",
    "axe.set_ylabel('Grade')\n",
    "axe.legend()\n",
    "\n",
    "# It took me for a while to figure out how to show the legens\n",
    "# axe.legend(handles=[histog])\n",
    "axe.legend()\n",
    "\n",
    "\"\"\"\n",
    "    * Use of legend with multiple sample sets\n",
    "    * Stacked bars\n",
    "    * Step curve with a color fill\n",
    "    * Data sets of different sample sizes\n",
    "\"\"\"\n",
    "n_bins = 10\n",
    "x = np.random.randn(1000, 3)\n",
    "\n",
    "fig, axes = plt.subplots(nrows=2, ncols=2)\n",
    "ax0, ax1, ax2, ax3 = axes.flat\n",
    "\n",
    "colors = ['red', 'tan', 'lime']\n",
    "ax0.hist(x, n_bins, normed=1, histtype='bar', color=colors, label=colors)\n",
    "ax0.legend(prop={'size': 10})\n",
    "ax0.set_title('bars with legend')\n",
    "\n",
    "ax1.hist(x, n_bins, normed=1, histtype='bar', stacked=True)\n",
    "ax1.set_title('stacked bar')\n",
    "\n",
    "ax2.hist(x, n_bins, histtype='step', stacked=True, fill=True)\n",
    "ax2.set_title('stepfilled')\n",
    "\n",
    "# Make a multiple-histogram of data-sets with different length.\n",
    "x_multi = [np.random.randn(n) for n in [10000, 5000, 2000]]\n",
    "ax3.hist(x_multi, n_bins, histtype='bar')\n",
    "ax3.set_title('different sample sizes')\n",
    "\n",
    "plt.tight_layout()\n",
    "plt.show()"
   ]
  },
  {
   "cell_type": "markdown",
   "metadata": {},
   "source": [
    "# Scenario 1: Time Series - plot_trip() in HW2\n",
    "# Scenario 2: Scatter point - plotting large twitter data\n",
    "# Scenario 3: Plotting Multiple Histogram"
   ]
  },
  {
   "cell_type": "code",
   "execution_count": null,
   "metadata": {
    "collapsed": true
   },
   "outputs": [],
   "source": []
  },
  {
   "cell_type": "markdown",
   "metadata": {},
   "source": [
    "Yes, `stylesheet` is such a rescue! I can automaticlly rendered our graph so beautiful, so we can focus on producing the content, instead of wasting our time find the good looking colors for our graph. We can also copy the colors used in `ggplot` style and save it for later use. To do this, we need to dive deeper into `plt.rcParams`. Below is a demonstration. You can skip this part the first time you read this.\n",
    "\n",
    "```python\n",
    "plt.style.use('ggplot')\n",
    "# print plt.rcParams\n",
    "colors = [v['color'] for v in plt.rcParams['axes.prop_cycle']][:6]\n",
    "print colors\n",
    "\n",
    "labels = ['M1', 'M2', 'P1', 'P2', 'F']\n",
    "plt.hist(edu.values, bins=10, normed=1, histtype='bar', color=colors, label=labels) # using the default color\n",
    "plt.legend()\n",
    "plt.show()\n",
    "```"
   ]
  }
 ],
 "metadata": {
  "anaconda-cloud": {},
  "kernelspec": {
   "display_name": "Python [Root]",
   "language": "python",
   "name": "Python [Root]"
  },
  "language_info": {
   "codemirror_mode": {
    "name": "ipython",
    "version": 2
   },
   "file_extension": ".py",
   "mimetype": "text/x-python",
   "name": "python",
   "nbconvert_exporter": "python",
   "pygments_lexer": "ipython2",
   "version": "2.7.12"
  }
 },
 "nbformat": 4,
 "nbformat_minor": 0
}
